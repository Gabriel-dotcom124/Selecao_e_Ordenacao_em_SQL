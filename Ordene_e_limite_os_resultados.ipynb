{
  "nbformat": 4,
  "nbformat_minor": 0,
  "metadata": {
    "colab": {
      "provenance": []
    },
    "kernelspec": {
      "name": "python3",
      "display_name": "Python 3"
    },
    "language_info": {
      "name": "python"
    }
  },
  "cells": [
    {
      "cell_type": "markdown",
      "source": [
        "\n",
        "\n",
        "# **1.   Comando Order**\n",
        "\n",
        "\n"
      ],
      "metadata": {
        "id": "xsOulPUwgXjl"
      }
    },
    {
      "cell_type": "markdown",
      "source": [
        "Na hora de mostrar os resultados, é possível ordená-los de acordo com alguma variável (coluna) com a função ORDER.\n",
        "\n",
        "\n",
        "\n",
        "    SELECT <coluna1>,... <coluna2>, ... FROM <nome_tabela> ORDER BY <coluna1> ASC DESC;"
      ],
      "metadata": {
        "id": "g8P_kzVNgbiG"
      }
    },
    {
      "cell_type": "markdown",
      "source": [
        "    SELECT id_cliente, valor FROM transacoes WHERE id_cliente= 1 ORDER BY valor DESC;"
      ],
      "metadata": {
        "id": "MO9IPHk4gksH"
      }
    },
    {
      "cell_type": "markdown",
      "source": [
        "\n",
        "\n",
        "# **2.   Comando Limit**\n",
        "\n",
        "\n"
      ],
      "metadata": {
        "id": "8sRiVmSXgn4A"
      }
    },
    {
      "cell_type": "markdown",
      "source": [
        "Você pode limitar quantas linhas serão mostradas na sua seleção de dados com o comando LIMIT:\n",
        "\n",
        "\n",
        "    SELECT <nome_coluna> FROM <nome_tabela> LIMIT <numero_de_linhas>;"
      ],
      "metadata": {
        "id": "FBT4lU6HgvBy"
      }
    },
    {
      "cell_type": "markdown",
      "source": [
        "No  nosso exemplo:\n",
        "\n",
        "\n",
        "    SELECT id_transacao, valor FROM transacoes LIMIT 3;"
      ],
      "metadata": {
        "id": "fcdTNtd0gz8i"
      }
    }
  ]
}