{
  "nbformat": 4,
  "nbformat_minor": 0,
  "metadata": {
    "colab": {
      "provenance": []
    },
    "kernelspec": {
      "name": "python3",
      "display_name": "Python 3"
    },
    "language_info": {
      "name": "python"
    }
  },
  "cells": [
    {
      "cell_type": "markdown",
      "source": [
        "\n",
        "\n",
        "# **1.   Comando Select**\n",
        "\n",
        "\n"
      ],
      "metadata": {
        "id": "hpEqnhGFVzFT"
      }
    },
    {
      "cell_type": "markdown",
      "source": [
        "Para visualizar todos os dados da tabela, utilize asterisco (*):\n",
        "\n",
        "\n",
        "    SELECT * FROM <nome_tabela>;"
      ],
      "metadata": {
        "id": "O7NXdJ3-V9hK"
      }
    },
    {
      "cell_type": "markdown",
      "source": [
        "Para visualizar colunas específicas da tabela:\n",
        "\n",
        "\n",
        "    SELECT <nome_coluna_1>,<nome_coluna_2> FROM <nome_tabela>;"
      ],
      "metadata": {
        "id": "pDm4WPHiWDnq"
      }
    },
    {
      "cell_type": "markdown",
      "source": [
        "\n",
        "\n",
        "# **2.   Comando AS**\n",
        "\n",
        "\n"
      ],
      "metadata": {
        "id": "xWnvDF3ZWIty"
      }
    },
    {
      "cell_type": "markdown",
      "source": [
        "Você pode criar um apelido (alias) na hora se mostrar sua coluna com o comando AS:\n",
        "\n",
        "\n",
        "    SELECT <nome_da_coluna> AS <apelido_para_coluna> FROM <nome_da_tabela>;\n",
        "\n",
        " Ou\n",
        "\n",
        "\n",
        "    SELECT <nome_coluna1> AS <apelido_para_coluna1>, <nome_da_coluna2> AS <apelido_para_coluna2> FROM <n"
      ],
      "metadata": {
        "id": "8SoKj8qMWPnC"
      }
    },
    {
      "cell_type": "markdown",
      "source": [
        "No nosso exemplo:\n",
        "\n",
        "\n",
        "    SELECT id_cliente,id_transacao, data_compra, id_loja AS nome_loja FROM transacoes;"
      ],
      "metadata": {
        "id": "200wJsPgWWt5"
      }
    },
    {
      "cell_type": "markdown",
      "source": [
        "\n",
        "\n",
        "# **3.   Comando Select Distinct**\n",
        "\n",
        "\n"
      ],
      "metadata": {
        "id": "IPJE3HdNWlq6"
      }
    },
    {
      "cell_type": "markdown",
      "source": [
        "Supondo que existam várias lojas (id_loja) diferentes no nosso banco de dados transações, com  o uso do select distinct, o SQL só mostra quais são as lojas cadastradas na tabela, sem repetição.\n",
        "\n",
        "\n",
        "    SELECT DISTINCT <nome_da_coluna> FROM <nome_da_tabela>;"
      ],
      "metadata": {
        "id": "Qa4n4djqWsOx"
      }
    },
    {
      "cell_type": "markdown",
      "source": [
        "No nosso caso:\n",
        "\n",
        "\n",
        "    SELECT DISTINCT id_loja AS nome_loja FROM transacoes;"
      ],
      "metadata": {
        "id": "i9KroirEWyLy"
      }
    },
    {
      "cell_type": "markdown",
      "source": [],
      "metadata": {
        "id": "y_XGBdZ-W3Gh"
      }
    }
  ]
}