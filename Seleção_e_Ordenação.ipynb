{
  "nbformat": 4,
  "nbformat_minor": 0,
  "metadata": {
    "colab": {
      "provenance": []
    },
    "kernelspec": {
      "name": "python3",
      "display_name": "Python 3"
    },
    "language_info": {
      "name": "python"
    }
  },
  "cells": [
    {
      "cell_type": "markdown",
      "source": [
        "\n",
        "\n",
        "# **1.   Restrição de colunas**\n",
        "\n",
        "\n"
      ],
      "metadata": {
        "id": "r0ecJZTuxqz7"
      }
    },
    {
      "cell_type": "markdown",
      "source": [
        "\n",
        "\n",
        "# **1.1   Tipos de chaves: Chave primária “primary key”**\n",
        "\n",
        "\n",
        "Para identificar uma tabela, podemos utilizar uma chave primária. Existem algumas regras que devem ser respeitadas na coluna designada a ser chave primária:\n",
        "\n"
      ],
      "metadata": {
        "id": "Z4BVhGHdxvr6"
      }
    },
    {
      "cell_type": "markdown",
      "source": [
        "• O valor da coluna não pode se repetir na tabela;\n",
        "\n",
        "• O valor da coluna não pode ser nulo.\n",
        "\n",
        "Você pode utilizar a chave primária de uma tabela para identificar uma instância em outra tabela."
      ],
      "metadata": {
        "id": "DF_u3ldKx5uE"
      }
    },
    {
      "cell_type": "markdown",
      "source": [
        "    CREATE TABLE <nome_tabela> (\n",
        "      <nome_da_coluna_primaria> <tipo_da_coluna_primaria> PRIMARY KEY,\n",
        "      <nome_da_coluna_2> <tipo_da_coluna_2>, ... );"
      ],
      "metadata": {
        "id": "zsDfERw1x-Ft"
      }
    },
    {
      "cell_type": "markdown",
      "source": [
        "No exemplo, podemos colocar a chave primeira como o id_transacao, já que toda transação deve ser única (índice não se repete) e não nula (não pode existir um valor de transação que não foi preenchido):"
      ],
      "metadata": {
        "id": "3_uC0YLqyLt_"
      }
    },
    {
      "cell_type": "markdown",
      "source": [
        "    CREATE TABLE transacoes (\n",
        "      id_cliente INT,\n",
        "      id_transacao INT PRIMARY KEY,\n",
        "      data_compra DATE, valor FLOAT,\n",
        "      id_loja varchar(25) );"
      ],
      "metadata": {
        "id": "r63CbiuryPJg"
      }
    },
    {
      "cell_type": "markdown",
      "source": [
        "\n",
        "\n",
        "# **1.2    Tipos de chaves: Chave estrangeira “foreign key”:**\n",
        "\n",
        "\n",
        "Quando queremos relacionar duas tabelas, utilizamos a chave estrangeira. Isso significa que uma coluna na tabela atual, está relacionada com alguma instância de outra tabela. No exemplo para o MySQL:\n",
        "\n",
        "\n",
        "\n"
      ],
      "metadata": {
        "id": "0K0ZfE3LydGK"
      }
    },
    {
      "cell_type": "markdown",
      "source": [
        "    CREATE TABLE <nome_tabela> (\n",
        "      <nome_da_coluna> <tipo_da_coluna>,\n",
        "      <nome_da_coluna> <tipo_da_coluna>, ...,\n",
        "      <nome_da_coluna> <tipo_da_coluna>,\n",
        "      FOREIGN KEY <nome_da_coluna> REFERENCES <nome_tabela_da_chave_relaciona(<nome_da_coluna_na_tabe );"
      ],
      "metadata": {
        "id": "yn3ZuMegyqis"
      }
    },
    {
      "cell_type": "markdown",
      "source": [
        "Exemplo: Na nossa tabela transações, faz sentido ter a chave primária como id_transacoes como fizemos anteriormente e deixar a chave estrangeira como o id_cliente. Isso porque, deve existir uma tabela clientes onde esse id_cliente é a chave primeira."
      ],
      "metadata": {
        "id": "orqIx-dOy7au"
      }
    },
    {
      "cell_type": "markdown",
      "source": [
        "    CREATE TABLE transacoes(\n",
        "      id_cliente INT,\n",
        "      id_transacao INT PRIMARY KEY,\n",
        "      data_compra DATE,\n",
        "      valor FLOAT,\n",
        "      id_loja varchar(25),\n",
        "      FOREIGN KEY (id_cliente) REFERENCES clientes(id_cliente) );"
      ],
      "metadata": {
        "id": "e68kVY7Ly-fn"
      }
    },
    {
      "cell_type": "markdown",
      "source": [
        "\n",
        "\n",
        "# **2.   Tipos de restrições**\n",
        "\n",
        "\n",
        "Algumas regras podem ser estabelecidas nos dados da sua tabela. Definindo-as na hora da criação da tabela, garantirá segurança a inserção dos dados.\n",
        "\n"
      ],
      "metadata": {
        "id": "R_l5JwV9zJc4"
      }
    },
    {
      "cell_type": "markdown",
      "source": [
        "\n",
        "\n",
        "# **2.1   Valores não nulos (not null): Os valores da coluna não podem ser nulos.**\n",
        "\n",
        "\n"
      ],
      "metadata": {
        "id": "0230R2DdzVoy"
      }
    },
    {
      "cell_type": "markdown",
      "source": [
        "    CREATE TABLE <nome_tabela> (\n",
        "      <nome_da_coluna> <tipo_da_coluna> NOT NULL ,\n",
        "       <nome_da_coluna_2> <tipo_da_coluna_2> , ... );"
      ],
      "metadata": {
        "id": "-_lLe8C7zeCj"
      }
    },
    {
      "cell_type": "markdown",
      "source": [
        "No nosso exemplo (unindo tudo que já aprendemos):"
      ],
      "metadata": {
        "id": "32wej86Jzj0M"
      }
    },
    {
      "cell_type": "markdown",
      "source": [
        "    CREATE TABLE transacoes (\n",
        "      id_cliente INT,\n",
        "      id_transacao INT PRIMARY KEY,\n",
        "      data_compra DATE,\n",
        "      valor FLOAT NOT NULL,\n",
        "      id_loja varchar(25),\n",
        "      FOREIGN KEY (id_cliente) REFERENCES clientes(id_cliente) );"
      ],
      "metadata": {
        "id": "xgrrXBoJzmx9"
      }
    },
    {
      "cell_type": "markdown",
      "source": [
        "\n",
        "\n",
        "# **2.2   Valores únicos (unique): Define que os valores da coluna devem ser únicos.**\n",
        "\n",
        "\n"
      ],
      "metadata": {
        "id": "UzdoeKBlzuF-"
      }
    },
    {
      "cell_type": "markdown",
      "source": [
        "    CREATE TABLE <nome_tabela> (\n",
        "      <nome_da_coluna> <tipo_da_coluna> UNIQUE ,\n",
        "      <nome_da_coluna_2> <tipo_da_coluna_2> , ... );"
      ],
      "metadata": {
        "id": "Cp8lTPayz11v"
      }
    },
    {
      "cell_type": "markdown",
      "source": [
        "No nosso exemplo (unindo tudo que já aprendemos):"
      ],
      "metadata": {
        "id": "6pWXeNV1z66Y"
      }
    },
    {
      "cell_type": "markdown",
      "source": [
        "    CREATE TABLE transacoes (\n",
        "      id_cliente INT,    \n",
        "      id_transacao INT PRIMARY KEY,\n",
        "      data_compra DATE UNIQUE,     \n",
        "      valor FLOAT NOT NULL,    \n",
        "      id_loja varchar(25),     \n",
        "      FOREIGN KEY (id_cliente) REFERENCES clientes(id_cliente) );"
      ],
      "metadata": {
        "id": "W2OZSZZNz87o"
      }
    },
    {
      "cell_type": "markdown",
      "source": [
        "\n",
        "\n",
        "# **2.3   Checando restrições (check)**\n",
        "\n",
        "\n"
      ],
      "metadata": {
        "id": "DpBQE4ZU0C1x"
      }
    },
    {
      "cell_type": "markdown",
      "source": [
        "    CREATE TABLE <nome_tabela> (\n",
        "      <nome_da_coluna> <tipo_da_coluna>,\n",
        "      <nome_da_coluna_2> <tipo_da_coluna_2> ,\n",
        "      CHECK (<condicao>) ... );"
      ],
      "metadata": {
        "id": "wCAYJR450JaD"
      }
    },
    {
      "cell_type": "markdown",
      "source": [
        "No nosso caso, podemos avaliar se não há valor negativo nas transações:"
      ],
      "metadata": {
        "id": "5SzMNXJT0OZr"
      }
    },
    {
      "cell_type": "markdown",
      "source": [
        "    CREATE TABLE transacoes (\n",
        "      id_cliente INT,\n",
        "      id_transacao INT PRIMARY KEY,\n",
        "      data_compra DATE UNIQUE,\n",
        "      valor FLOAT NOT NULL,\n",
        "      id_loja varchar(25),\n",
        "      FOREIGN KEY (id_cliente) REFERENCES clientes(id_cliente)\n",
        "      CHECK (valor > 0) );"
      ],
      "metadata": {
        "id": "QMHDwKo-0RE7"
      }
    },
    {
      "cell_type": "markdown",
      "source": [
        "\n",
        "\n",
        "# *   **Obs:**  Não há alteração visual quando adicionamos primary key ou foreign key na tabela. Por isso não mostraremos o resultado aqui.\n",
        "\n",
        "\n"
      ],
      "metadata": {
        "id": "xfas5YPd0aDl"
      }
    }
  ]
}